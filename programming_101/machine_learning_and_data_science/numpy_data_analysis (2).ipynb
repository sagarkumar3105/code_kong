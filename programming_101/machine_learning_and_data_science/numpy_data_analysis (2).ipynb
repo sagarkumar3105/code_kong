{
  "nbformat": 4,
  "nbformat_minor": 0,
  "metadata": {
    "colab": {
      "name": "numpy-data analysis.ipynb",
      "provenance": []
    },
    "kernelspec": {
      "name": "python3",
      "display_name": "Python 3"
    },
    "language_info": {
      "name": "python"
    }
  },
  "cells": [
    {
      "cell_type": "markdown",
      "metadata": {
        "id": "BQWXBxCCpsa6"
      },
      "source": [
        "# Linking the drive"
      ]
    },
    {
      "cell_type": "code",
      "metadata": {
        "colab": {
          "base_uri": "https://localhost:8080/"
        },
        "id": "rxBhtI_RpYpF",
        "outputId": "527b193f-2d3b-4bb1-a7cd-d024c2ef9cea"
      },
      "source": [
        "from google.colab import drive\n",
        "drive.mount('/content/drive')"
      ],
      "execution_count": 1,
      "outputs": [
        {
          "output_type": "stream",
          "name": "stdout",
          "text": [
            "Mounted at /content/drive\n"
          ]
        }
      ]
    },
    {
      "cell_type": "markdown",
      "metadata": {
        "id": "5HGbfaYGpxJH"
      },
      "source": [
        "# Numpy\n",
        "- It means numerical python.\n",
        "- It's the linear algebra library for python.\n",
        "- It's fast, as it has bindings with C libraries.\n",
        "- Almost all the libraries in pydata ecosystem rely on it because Numpy was one of their building blocks.\n",
        "\n",
        "### The Old School\n",
        "- For python idle version you can install numpy using:\n",
        "   ```\n",
        "   pip  install numpy\n",
        "   ```\n",
        "- For anaconda version you can install using: \n",
        "```\n",
        "conda install numpy\n",
        "```\n",
        "\n",
        "\n",
        "\n",
        "\n",
        "\n",
        "\n",
        "\n",
        "\n"
      ]
    },
    {
      "cell_type": "markdown",
      "metadata": {
        "id": "2tgzBhsbsGff"
      },
      "source": [
        "# Use of numpy?\n",
        "- Numpy arrays.\n",
        "- It's of two types:\n",
        "  - Vectors: 1-D array.\n",
        "  - Matrices: 2-D ( But a matrics can have only one row or one column.)\n",
        "\n",
        "\n"
      ]
    },
    {
      "cell_type": "markdown",
      "metadata": {
        "id": "InDQvKnAuIWV"
      },
      "source": [
        "# Let's get started\n"
      ]
    },
    {
      "cell_type": "code",
      "metadata": {
        "colab": {
          "base_uri": "https://localhost:8080/"
        },
        "id": "KytLNg9lucTq",
        "outputId": "3b0d7cb0-7489-458e-8d74-66a65d51ddc9"
      },
      "source": [
        "# list\n",
        "my_list = [1,2,3]\n",
        "my_list"
      ],
      "execution_count": 4,
      "outputs": [
        {
          "output_type": "execute_result",
          "data": {
            "text/plain": [
              "[1, 2, 3]"
            ]
          },
          "metadata": {},
          "execution_count": 4
        }
      ]
    },
    {
      "cell_type": "markdown",
      "metadata": {
        "id": "AJHGPnDVrxbb"
      },
      "source": [
        "## Importing the libraries"
      ]
    },
    {
      "cell_type": "code",
      "metadata": {
        "id": "PteOz8Mzrwq7"
      },
      "source": [
        "import numpy as np"
      ],
      "execution_count": 3,
      "outputs": []
    },
    {
      "cell_type": "markdown",
      "metadata": {
        "id": "gnvgibimr_t-"
      },
      "source": [
        "Creating a numpy array"
      ]
    },
    {
      "cell_type": "code",
      "metadata": {
        "colab": {
          "base_uri": "https://localhost:8080/"
        },
        "id": "KrpnRHBqr3eP",
        "outputId": "1b8d352e-c813-4f90-aa5a-72262ec899f0"
      },
      "source": [
        "np.array(my_list)"
      ],
      "execution_count": 5,
      "outputs": [
        {
          "output_type": "execute_result",
          "data": {
            "text/plain": [
              "array([1, 2, 3])"
            ]
          },
          "metadata": {},
          "execution_count": 5
        }
      ]
    },
    {
      "cell_type": "code",
      "metadata": {
        "id": "pjkqIKlYvB8u"
      },
      "source": [
        "arr = np.array(my_list)"
      ],
      "execution_count": 6,
      "outputs": []
    },
    {
      "cell_type": "code",
      "metadata": {
        "colab": {
          "base_uri": "https://localhost:8080/"
        },
        "id": "sygmPG5hvIUO",
        "outputId": "26e577ed-714b-4593-ed61-81f5e425e076"
      },
      "source": [
        "arr\n",
        "# vector"
      ],
      "execution_count": 7,
      "outputs": [
        {
          "output_type": "execute_result",
          "data": {
            "text/plain": [
              "array([1, 2, 3])"
            ]
          },
          "metadata": {},
          "execution_count": 7
        }
      ]
    },
    {
      "cell_type": "markdown",
      "metadata": {
        "id": "Z7Gu0L8uvT2q"
      },
      "source": [
        "### Creating matrices"
      ]
    },
    {
      "cell_type": "code",
      "metadata": {
        "id": "aCXYCZnFvL-8"
      },
      "source": [
        "# 2-D List\n",
        "my_mat = [[1, 2, 3] ,\n",
        "          [4, 5, 6] ,\n",
        "          [7, 8, 9] ]"
      ],
      "execution_count": 8,
      "outputs": []
    },
    {
      "cell_type": "code",
      "metadata": {
        "colab": {
          "base_uri": "https://localhost:8080/"
        },
        "id": "ea9p0_P9vvQu",
        "outputId": "e8949191-af47-4c54-a120-018eefd9dc58"
      },
      "source": [
        "np.array(my_mat)"
      ],
      "execution_count": 9,
      "outputs": [
        {
          "output_type": "execute_result",
          "data": {
            "text/plain": [
              "array([[1, 2, 3],\n",
              "       [4, 5, 6],\n",
              "       [7, 8, 9]])"
            ]
          },
          "metadata": {},
          "execution_count": 9
        }
      ]
    },
    {
      "cell_type": "code",
      "metadata": {
        "id": "vCusPf_JvqiW"
      },
      "source": [
        "mat = np.array(my_mat)"
      ],
      "execution_count": 10,
      "outputs": []
    },
    {
      "cell_type": "code",
      "metadata": {
        "colab": {
          "base_uri": "https://localhost:8080/"
        },
        "id": "YduCVCTiQSds",
        "outputId": "451bf80f-771f-4c5d-e9eb-b7883de76170"
      },
      "source": [
        "mat"
      ],
      "execution_count": 11,
      "outputs": [
        {
          "output_type": "execute_result",
          "data": {
            "text/plain": [
              "array([[1, 2, 3],\n",
              "       [4, 5, 6],\n",
              "       [7, 8, 9]])"
            ]
          },
          "metadata": {},
          "execution_count": 11
        }
      ]
    },
    {
      "cell_type": "markdown",
      "metadata": {
        "id": "Ijex7xN1v-J9"
      },
      "source": [
        "### Creating evenly spaced array\n",
        "\n",
        "- It takes two required argument and one optional argument.\n",
        "  - 1st argument: start of array.\n",
        "  - 2nd argument: end point(not inclusive).\n",
        "  - 3rd argument: optional step size."
      ]
    },
    {
      "cell_type": "code",
      "metadata": {
        "colab": {
          "base_uri": "https://localhost:8080/"
        },
        "id": "VcU47zt1v0l-",
        "outputId": "157158ef-cf51-4bbd-90b6-c22b72577141"
      },
      "source": [
        "np.arange(0,20)"
      ],
      "execution_count": 15,
      "outputs": [
        {
          "output_type": "execute_result",
          "data": {
            "text/plain": [
              "array([ 0,  1,  2,  3,  4,  5,  6,  7,  8,  9, 10, 11, 12, 13, 14, 15, 16,\n",
              "       17, 18, 19])"
            ]
          },
          "metadata": {},
          "execution_count": 15
        }
      ]
    },
    {
      "cell_type": "code",
      "metadata": {
        "colab": {
          "base_uri": "https://localhost:8080/"
        },
        "id": "5G-k2T85w6lh",
        "outputId": "3697ff58-dc92-42bc-c7f2-62713cd4b079"
      },
      "source": [
        "np.arange(0,20,2)"
      ],
      "execution_count": 14,
      "outputs": [
        {
          "output_type": "execute_result",
          "data": {
            "text/plain": [
              "array([ 0,  2,  4,  6,  8, 10, 12, 14, 16, 18])"
            ]
          },
          "metadata": {},
          "execution_count": 14
        }
      ]
    },
    {
      "cell_type": "markdown",
      "metadata": {
        "id": "UXTf15_-wQKc"
      },
      "source": [
        "### Creating array of zeroes\n",
        "- For creating higher dimension zeroes array you need to pass on tuple with desired row and column values."
      ]
    },
    {
      "cell_type": "code",
      "metadata": {
        "colab": {
          "base_uri": "https://localhost:8080/"
        },
        "id": "ljZ7EUZdxPK3",
        "outputId": "92cd1ce6-c95a-4e76-f9b7-c6a4f4a77d08"
      },
      "source": [
        "np.zeros(100)"
      ],
      "execution_count": 19,
      "outputs": [
        {
          "output_type": "execute_result",
          "data": {
            "text/plain": [
              "array([0., 0., 0., 0., 0., 0., 0., 0., 0., 0., 0., 0., 0., 0., 0., 0., 0.,\n",
              "       0., 0., 0., 0., 0., 0., 0., 0., 0., 0., 0., 0., 0., 0., 0., 0., 0.,\n",
              "       0., 0., 0., 0., 0., 0., 0., 0., 0., 0., 0., 0., 0., 0., 0., 0., 0.,\n",
              "       0., 0., 0., 0., 0., 0., 0., 0., 0., 0., 0., 0., 0., 0., 0., 0., 0.,\n",
              "       0., 0., 0., 0., 0., 0., 0., 0., 0., 0., 0., 0., 0., 0., 0., 0., 0.,\n",
              "       0., 0., 0., 0., 0., 0., 0., 0., 0., 0., 0., 0., 0., 0., 0.])"
            ]
          },
          "metadata": {},
          "execution_count": 19
        }
      ]
    },
    {
      "cell_type": "code",
      "metadata": {
        "colab": {
          "base_uri": "https://localhost:8080/"
        },
        "id": "5h_XkvTrxWIF",
        "outputId": "116e26c5-6dc9-4197-f3d0-b7989b31a055"
      },
      "source": [
        "np.zeros((10,7))"
      ],
      "execution_count": 18,
      "outputs": [
        {
          "output_type": "execute_result",
          "data": {
            "text/plain": [
              "array([[0., 0., 0., 0., 0., 0., 0.],\n",
              "       [0., 0., 0., 0., 0., 0., 0.],\n",
              "       [0., 0., 0., 0., 0., 0., 0.],\n",
              "       [0., 0., 0., 0., 0., 0., 0.],\n",
              "       [0., 0., 0., 0., 0., 0., 0.],\n",
              "       [0., 0., 0., 0., 0., 0., 0.],\n",
              "       [0., 0., 0., 0., 0., 0., 0.],\n",
              "       [0., 0., 0., 0., 0., 0., 0.],\n",
              "       [0., 0., 0., 0., 0., 0., 0.],\n",
              "       [0., 0., 0., 0., 0., 0., 0.]])"
            ]
          },
          "metadata": {},
          "execution_count": 18
        }
      ]
    },
    {
      "cell_type": "markdown",
      "metadata": {
        "id": "drKYOV6nyAb1"
      },
      "source": [
        "### Linspace"
      ]
    },
    {
      "cell_type": "markdown",
      "metadata": {
        "id": "k82yesw1R-vZ"
      },
      "source": [
        "start 1\n",
        "end 2\n",
        "\n",
        "linspace 5\n",
        "\n",
        "1 , 1.2 , 1.4, 1.6 1.8"
      ]
    },
    {
      "cell_type": "code",
      "metadata": {
        "colab": {
          "base_uri": "https://localhost:8080/"
        },
        "id": "kTjKpj_FxrpO",
        "outputId": "902e0485-5bd1-4f1e-8014-393785cd5c1b"
      },
      "source": [
        "np.linspace(0,1,20)"
      ],
      "execution_count": 20,
      "outputs": [
        {
          "output_type": "execute_result",
          "data": {
            "text/plain": [
              "array([0.        , 0.05263158, 0.10526316, 0.15789474, 0.21052632,\n",
              "       0.26315789, 0.31578947, 0.36842105, 0.42105263, 0.47368421,\n",
              "       0.52631579, 0.57894737, 0.63157895, 0.68421053, 0.73684211,\n",
              "       0.78947368, 0.84210526, 0.89473684, 0.94736842, 1.        ])"
            ]
          },
          "metadata": {},
          "execution_count": 20
        }
      ]
    },
    {
      "cell_type": "markdown",
      "metadata": {
        "id": "fpQZyF8VyWGN"
      },
      "source": [
        "### Identity matrices"
      ]
    },
    {
      "cell_type": "markdown",
      "metadata": {
        "id": "Z3qMbi6oSeGz"
      },
      "source": [
        "all diagonal elements \n",
        "\n",
        "\n",
        " 1  0  0\n",
        " 0  1  0\n",
        " 0  0  1"
      ]
    },
    {
      "cell_type": "markdown",
      "metadata": {
        "id": "-paU8l6SSxdJ"
      },
      "source": [
        "matrics n * m for I: n == m"
      ]
    },
    {
      "cell_type": "code",
      "metadata": {
        "colab": {
          "base_uri": "https://localhost:8080/"
        },
        "id": "C28hxduAyY8P",
        "outputId": "5fe3f8c3-750c-47f0-8eaf-c18ffedde969"
      },
      "source": [
        "np.eye(4)"
      ],
      "execution_count": 21,
      "outputs": [
        {
          "output_type": "execute_result",
          "data": {
            "text/plain": [
              "array([[1., 0., 0., 0.],\n",
              "       [0., 1., 0., 0.],\n",
              "       [0., 0., 1., 0.],\n",
              "       [0., 0., 0., 1.]])"
            ]
          },
          "metadata": {},
          "execution_count": 21
        }
      ]
    },
    {
      "cell_type": "markdown",
      "metadata": {
        "id": "-6rgWOwVyp_n"
      },
      "source": [
        "### array of random numbers"
      ]
    },
    {
      "cell_type": "markdown",
      "metadata": {
        "id": "FP2DtcRPzH89"
      },
      "source": [
        "#### rand:\n",
        "- It creates n elements array with random values in between 0 and 1."
      ]
    },
    {
      "cell_type": "code",
      "metadata": {
        "colab": {
          "base_uri": "https://localhost:8080/"
        },
        "id": "msDoM-JZys7U",
        "outputId": "7463f744-b952-43a9-fea0-08d23e10fe29"
      },
      "source": [
        "np.random.rand(10)"
      ],
      "execution_count": 24,
      "outputs": [
        {
          "output_type": "execute_result",
          "data": {
            "text/plain": [
              "array([0.42817615, 0.49193893, 0.25074048, 0.63649103, 0.38125367,\n",
              "       0.74301638, 0.31459195, 0.92772087, 0.14473308, 0.80572563])"
            ]
          },
          "metadata": {},
          "execution_count": 24
        }
      ]
    },
    {
      "cell_type": "markdown",
      "metadata": {
        "id": "pZCvZ97JzZpt"
      },
      "source": [
        "#### randn:\n",
        "- It creates n elements array with random values from standard distribution."
      ]
    },
    {
      "cell_type": "code",
      "metadata": {
        "colab": {
          "base_uri": "https://localhost:8080/"
        },
        "id": "mg0EQ1gtzQh1",
        "outputId": "2b0e03df-fa7e-4682-8c55-5ca59d1715ee"
      },
      "source": [
        "np.random.randn(2)"
      ],
      "execution_count": 25,
      "outputs": [
        {
          "output_type": "execute_result",
          "data": {
            "text/plain": [
              "array([-9.88282366e-04,  1.04158219e+00])"
            ]
          },
          "metadata": {},
          "execution_count": 25
        }
      ]
    },
    {
      "cell_type": "markdown",
      "metadata": {
        "id": "rZBqhe32zoFP"
      },
      "source": [
        "#### randint:\n",
        "- it gives random integer values with n optional values."
      ]
    },
    {
      "cell_type": "code",
      "metadata": {
        "colab": {
          "base_uri": "https://localhost:8080/"
        },
        "id": "2DlDviRPz9ue",
        "outputId": "71973892-59d9-456a-c036-a751b41b431b"
      },
      "source": [
        "np.random.randint(0,100)"
      ],
      "execution_count": 26,
      "outputs": [
        {
          "output_type": "execute_result",
          "data": {
            "text/plain": [
              "2"
            ]
          },
          "metadata": {},
          "execution_count": 26
        }
      ]
    },
    {
      "cell_type": "code",
      "metadata": {
        "colab": {
          "base_uri": "https://localhost:8080/"
        },
        "id": "qzz_IQZE0C_8",
        "outputId": "2e2a6d88-e9bf-435c-cde3-ad702ad6a4b0"
      },
      "source": [
        "np.random.randint(1,11,10)"
      ],
      "execution_count": 27,
      "outputs": [
        {
          "output_type": "execute_result",
          "data": {
            "text/plain": [
              "array([ 4, 10,  8,  2, 10,  3,  7,  4,  3,  8])"
            ]
          },
          "metadata": {},
          "execution_count": 27
        }
      ]
    },
    {
      "cell_type": "markdown",
      "metadata": {
        "id": "VkUK-78d0Zfu"
      },
      "source": [
        "#### reshape:"
      ]
    },
    {
      "cell_type": "code",
      "metadata": {
        "id": "hZ0xeCZO0G4s"
      },
      "source": [
        "arr = np.arange(25)"
      ],
      "execution_count": 28,
      "outputs": []
    },
    {
      "cell_type": "code",
      "metadata": {
        "colab": {
          "base_uri": "https://localhost:8080/"
        },
        "id": "A6UUwX63UkUi",
        "outputId": "b665fe70-6f78-4a87-bfd3-82dbcc3ee795"
      },
      "source": [
        "arr"
      ],
      "execution_count": 29,
      "outputs": [
        {
          "output_type": "execute_result",
          "data": {
            "text/plain": [
              "array([ 0,  1,  2,  3,  4,  5,  6,  7,  8,  9, 10, 11, 12, 13, 14, 15, 16,\n",
              "       17, 18, 19, 20, 21, 22, 23, 24])"
            ]
          },
          "metadata": {},
          "execution_count": 29
        }
      ]
    },
    {
      "cell_type": "code",
      "metadata": {
        "colab": {
          "base_uri": "https://localhost:8080/"
        },
        "id": "9rKmvJiu0cgk",
        "outputId": "1527fb91-705f-43fd-e888-267b517d1d68"
      },
      "source": [
        "arr.reshape(25,1)"
      ],
      "execution_count": 32,
      "outputs": [
        {
          "output_type": "execute_result",
          "data": {
            "text/plain": [
              "array([[ 0],\n",
              "       [ 1],\n",
              "       [ 2],\n",
              "       [ 3],\n",
              "       [ 4],\n",
              "       [ 5],\n",
              "       [ 6],\n",
              "       [ 7],\n",
              "       [ 8],\n",
              "       [ 9],\n",
              "       [10],\n",
              "       [11],\n",
              "       [12],\n",
              "       [13],\n",
              "       [14],\n",
              "       [15],\n",
              "       [16],\n",
              "       [17],\n",
              "       [18],\n",
              "       [19],\n",
              "       [20],\n",
              "       [21],\n",
              "       [22],\n",
              "       [23],\n",
              "       [24]])"
            ]
          },
          "metadata": {},
          "execution_count": 32
        }
      ]
    },
    {
      "cell_type": "markdown",
      "metadata": {
        "id": "xZXEbInK0lr9"
      },
      "source": [
        "#### max:"
      ]
    },
    {
      "cell_type": "code",
      "metadata": {
        "colab": {
          "base_uri": "https://localhost:8080/"
        },
        "id": "-JKnlzw60nh2",
        "outputId": "fd04674f-01fe-4b38-c05d-7fee3e0f8aed"
      },
      "source": [
        "arr.max()"
      ],
      "execution_count": 33,
      "outputs": [
        {
          "output_type": "execute_result",
          "data": {
            "text/plain": [
              "24"
            ]
          },
          "metadata": {},
          "execution_count": 33
        }
      ]
    },
    {
      "cell_type": "markdown",
      "metadata": {
        "id": "rpvGRFgV0qbV"
      },
      "source": [
        "#### max index(argmax):"
      ]
    },
    {
      "cell_type": "code",
      "metadata": {
        "colab": {
          "base_uri": "https://localhost:8080/"
        },
        "id": "X1n5lC3k0qK3",
        "outputId": "66376482-3b6d-4ef7-80e2-34fa7911b0df"
      },
      "source": [
        "arr.argmax()"
      ],
      "execution_count": 34,
      "outputs": [
        {
          "output_type": "execute_result",
          "data": {
            "text/plain": [
              "24"
            ]
          },
          "metadata": {},
          "execution_count": 34
        }
      ]
    },
    {
      "cell_type": "markdown",
      "metadata": {
        "id": "PWBpsCn903n7"
      },
      "source": [
        "#### min:"
      ]
    },
    {
      "cell_type": "code",
      "metadata": {
        "colab": {
          "base_uri": "https://localhost:8080/"
        },
        "id": "RrMsGVzI00pb",
        "outputId": "b51848b4-b6e0-4db0-a7ea-f4564902fe4d"
      },
      "source": [
        "arr.min()"
      ],
      "execution_count": 35,
      "outputs": [
        {
          "output_type": "execute_result",
          "data": {
            "text/plain": [
              "0"
            ]
          },
          "metadata": {},
          "execution_count": 35
        }
      ]
    },
    {
      "cell_type": "markdown",
      "metadata": {
        "id": "VLJmB06B07es"
      },
      "source": [
        "#### min value index:"
      ]
    },
    {
      "cell_type": "code",
      "metadata": {
        "colab": {
          "base_uri": "https://localhost:8080/"
        },
        "id": "oErZRghQ1AFT",
        "outputId": "91d4d575-3d49-4850-f24a-80e32aa17170"
      },
      "source": [
        "arr.argmin()"
      ],
      "execution_count": 36,
      "outputs": [
        {
          "output_type": "execute_result",
          "data": {
            "text/plain": [
              "0"
            ]
          },
          "metadata": {},
          "execution_count": 36
        }
      ]
    },
    {
      "cell_type": "markdown",
      "metadata": {
        "id": "GebPb5pR1DeF"
      },
      "source": [
        "#### shape:"
      ]
    },
    {
      "cell_type": "code",
      "metadata": {
        "id": "fasuFM-8WE2L"
      },
      "source": [
        "a = np.arange(10)"
      ],
      "execution_count": 39,
      "outputs": []
    },
    {
      "cell_type": "code",
      "metadata": {
        "colab": {
          "base_uri": "https://localhost:8080/"
        },
        "id": "Uh-TnjNHWTyQ",
        "outputId": "328d28e8-5b18-48a4-f074-23fab7f754c1"
      },
      "source": [
        "a"
      ],
      "execution_count": 40,
      "outputs": [
        {
          "output_type": "execute_result",
          "data": {
            "text/plain": [
              "array([0, 1, 2, 3, 4, 5, 6, 7, 8, 9])"
            ]
          },
          "metadata": {},
          "execution_count": 40
        }
      ]
    },
    {
      "cell_type": "code",
      "metadata": {
        "colab": {
          "base_uri": "https://localhost:8080/"
        },
        "id": "XJ9VKTJYWWN-",
        "outputId": "ea42cd13-a78d-460c-8f99-9bac777dbfb5"
      },
      "source": [
        "a.shape"
      ],
      "execution_count": 41,
      "outputs": [
        {
          "output_type": "execute_result",
          "data": {
            "text/plain": [
              "(10,)"
            ]
          },
          "metadata": {},
          "execution_count": 41
        }
      ]
    },
    {
      "cell_type": "code",
      "metadata": {
        "id": "fim77-Y61D2l"
      },
      "source": [
        "arr = arr.reshape(5,5)"
      ],
      "execution_count": 37,
      "outputs": []
    },
    {
      "cell_type": "code",
      "metadata": {
        "colab": {
          "base_uri": "https://localhost:8080/"
        },
        "id": "8kX96MG91Oll",
        "outputId": "2f39df50-7f8b-401e-f7f4-7e85a94faaed"
      },
      "source": [
        "arr.shape"
      ],
      "execution_count": 38,
      "outputs": [
        {
          "output_type": "execute_result",
          "data": {
            "text/plain": [
              "(5, 5)"
            ]
          },
          "metadata": {},
          "execution_count": 38
        }
      ]
    },
    {
      "cell_type": "markdown",
      "metadata": {
        "id": "02Kz7-O31beH"
      },
      "source": [
        "#### dtype:"
      ]
    },
    {
      "cell_type": "code",
      "metadata": {
        "colab": {
          "base_uri": "https://localhost:8080/"
        },
        "id": "Lpa7ubgt1ZC8",
        "outputId": "e0311ba2-229e-40cb-a00b-1a960086d046"
      },
      "source": [
        "arr.dtype"
      ],
      "execution_count": 42,
      "outputs": [
        {
          "output_type": "execute_result",
          "data": {
            "text/plain": [
              "dtype('int64')"
            ]
          },
          "metadata": {},
          "execution_count": 42
        }
      ]
    },
    {
      "cell_type": "markdown",
      "metadata": {
        "id": "_Jaz-_IY1pN0"
      },
      "source": [
        "#### a click bait:"
      ]
    },
    {
      "cell_type": "code",
      "metadata": {
        "id": "BnvANzrz1r20"
      },
      "source": [
        "from numpy import random"
      ],
      "execution_count": 43,
      "outputs": []
    },
    {
      "cell_type": "code",
      "metadata": {
        "colab": {
          "base_uri": "https://localhost:8080/"
        },
        "id": "31FqVQPF1w9E",
        "outputId": "8a5194eb-2abc-4429-88f1-6d33eabba976"
      },
      "source": [
        "random.randint(1,100)"
      ],
      "execution_count": 44,
      "outputs": [
        {
          "output_type": "execute_result",
          "data": {
            "text/plain": [
              "70"
            ]
          },
          "metadata": {},
          "execution_count": 44
        }
      ]
    },
    {
      "cell_type": "code",
      "metadata": {
        "colab": {
          "base_uri": "https://localhost:8080/"
        },
        "id": "cUQCxLou13H0",
        "outputId": "acd8e8a1-47ea-4693-a524-e1cafdf1a237"
      },
      "source": [
        "from numpy.random import randint\n",
        "\n",
        "randint(1,100)"
      ],
      "execution_count": 45,
      "outputs": [
        {
          "output_type": "execute_result",
          "data": {
            "text/plain": [
              "50"
            ]
          },
          "metadata": {},
          "execution_count": 45
        }
      ]
    },
    {
      "cell_type": "markdown",
      "metadata": {
        "id": "fQseIOnu2HEm"
      },
      "source": [
        "# Numpy Indexing and selection"
      ]
    },
    {
      "cell_type": "code",
      "metadata": {
        "id": "SdBnts1-1_Yf"
      },
      "source": [
        "arr = np.arange(0,11)"
      ],
      "execution_count": 46,
      "outputs": []
    },
    {
      "cell_type": "code",
      "metadata": {
        "colab": {
          "base_uri": "https://localhost:8080/"
        },
        "id": "_iHMrsf52hvH",
        "outputId": "621a3136-47c9-47a2-cf19-3c08ccc51dbe"
      },
      "source": [
        "arr"
      ],
      "execution_count": 47,
      "outputs": [
        {
          "output_type": "execute_result",
          "data": {
            "text/plain": [
              "array([ 0,  1,  2,  3,  4,  5,  6,  7,  8,  9, 10])"
            ]
          },
          "metadata": {},
          "execution_count": 47
        }
      ]
    },
    {
      "cell_type": "markdown",
      "metadata": {
        "id": "TiDjkAcf2cJ8"
      },
      "source": [
        "#### values by index:"
      ]
    },
    {
      "cell_type": "code",
      "metadata": {
        "colab": {
          "base_uri": "https://localhost:8080/"
        },
        "id": "g5lKFYGn2RQ9",
        "outputId": "f051807e-16b3-4513-f5c3-7071db66d1b9"
      },
      "source": [
        "arr[3]"
      ],
      "execution_count": 50,
      "outputs": [
        {
          "output_type": "execute_result",
          "data": {
            "text/plain": [
              "3"
            ]
          },
          "metadata": {},
          "execution_count": 50
        }
      ]
    },
    {
      "cell_type": "markdown",
      "metadata": {
        "id": "C_RqEeiY2lMu"
      },
      "source": [
        "#### slicing the array"
      ]
    },
    {
      "cell_type": "code",
      "metadata": {
        "colab": {
          "base_uri": "https://localhost:8080/"
        },
        "id": "PYe1CzKY2o_v",
        "outputId": "da6ef05c-9b8f-4958-81c0-a91b2b5668ad"
      },
      "source": [
        "arr[0:9]"
      ],
      "execution_count": 53,
      "outputs": [
        {
          "output_type": "execute_result",
          "data": {
            "text/plain": [
              "array([0, 1, 2, 3, 4, 5, 6, 7, 8])"
            ]
          },
          "metadata": {},
          "execution_count": 53
        }
      ]
    },
    {
      "cell_type": "code",
      "metadata": {
        "colab": {
          "base_uri": "https://localhost:8080/"
        },
        "id": "sbXj-nnI2veW",
        "outputId": "3292e36b-f505-49e8-f704-7085cc453826"
      },
      "source": [
        "arr[0:4]"
      ],
      "execution_count": 54,
      "outputs": [
        {
          "output_type": "execute_result",
          "data": {
            "text/plain": [
              "array([0, 1, 2, 3])"
            ]
          },
          "metadata": {},
          "execution_count": 54
        }
      ]
    },
    {
      "cell_type": "code",
      "metadata": {
        "colab": {
          "base_uri": "https://localhost:8080/"
        },
        "id": "4oktsM35209B",
        "outputId": "48441a48-547f-4ad8-c47c-e31d8a9ab424"
      },
      "source": [
        "arr[5:]"
      ],
      "execution_count": 55,
      "outputs": [
        {
          "output_type": "execute_result",
          "data": {
            "text/plain": [
              "array([ 5,  6,  7,  8,  9, 10])"
            ]
          },
          "metadata": {},
          "execution_count": 55
        }
      ]
    },
    {
      "cell_type": "code",
      "metadata": {
        "colab": {
          "base_uri": "https://localhost:8080/"
        },
        "id": "I9GYIXyR23vg",
        "outputId": "6a1f0d70-e9c0-4cea-a095-48d5cc879693"
      },
      "source": [
        "arr[:5]"
      ],
      "execution_count": 56,
      "outputs": [
        {
          "output_type": "execute_result",
          "data": {
            "text/plain": [
              "array([0, 1, 2, 3, 4])"
            ]
          },
          "metadata": {},
          "execution_count": 56
        }
      ]
    },
    {
      "cell_type": "markdown",
      "metadata": {
        "id": "14sL2Pcr2xkL"
      },
      "source": [
        "#### Updating the values"
      ]
    },
    {
      "cell_type": "code",
      "metadata": {
        "id": "oiBPGCQR2xOH"
      },
      "source": [
        "arr[9] = 100"
      ],
      "execution_count": 57,
      "outputs": []
    },
    {
      "cell_type": "code",
      "metadata": {
        "colab": {
          "base_uri": "https://localhost:8080/"
        },
        "id": "47Y1FNjb3H73",
        "outputId": "f119f492-3b50-45d2-dc8d-071a4633b8f3"
      },
      "source": [
        "arr"
      ],
      "execution_count": 58,
      "outputs": [
        {
          "output_type": "execute_result",
          "data": {
            "text/plain": [
              "array([  0,   1,   2,   3,   4,   5,   6,   7,   8, 100,  10])"
            ]
          },
          "metadata": {},
          "execution_count": 58
        }
      ]
    },
    {
      "cell_type": "code",
      "metadata": {
        "id": "P4PEt2Pf3I5b"
      },
      "source": [
        "arr[0:5] = 100"
      ],
      "execution_count": 59,
      "outputs": []
    },
    {
      "cell_type": "code",
      "metadata": {
        "colab": {
          "base_uri": "https://localhost:8080/"
        },
        "id": "i30kkQvz3L8y",
        "outputId": "cad28365-669e-43b1-e09b-2ecf13c4b810"
      },
      "source": [
        "arr"
      ],
      "execution_count": 60,
      "outputs": [
        {
          "output_type": "execute_result",
          "data": {
            "text/plain": [
              "array([100, 100, 100, 100, 100,   5,   6,   7,   8, 100,  10])"
            ]
          },
          "metadata": {},
          "execution_count": 60
        }
      ]
    },
    {
      "cell_type": "markdown",
      "metadata": {
        "id": "9Q7pFCIxaADX"
      },
      "source": [
        "arr[0]   -->   [1]\n",
        "arr[1]   -->   [2]\n",
        "arr[2] ---->   [3]"
      ]
    },
    {
      "cell_type": "code",
      "metadata": {
        "id": "xlDIfk2J3N_X"
      },
      "source": [
        "arr[0:5] = [1,2,3,4,5]"
      ],
      "execution_count": 96,
      "outputs": []
    },
    {
      "cell_type": "code",
      "metadata": {
        "colab": {
          "base_uri": "https://localhost:8080/"
        },
        "id": "UL6e0W593Tqn",
        "outputId": "404be2a4-e4a7-4800-964d-9e008a5d5c5d"
      },
      "source": [
        "arr"
      ],
      "execution_count": 97,
      "outputs": [
        {
          "output_type": "execute_result",
          "data": {
            "text/plain": [
              "array([  1,   2,   3,   4,   5,  99,  99,  99,  99, 100,  10])"
            ]
          },
          "metadata": {},
          "execution_count": 97
        }
      ]
    },
    {
      "cell_type": "markdown",
      "metadata": {
        "id": "P4cxubsR3bFg"
      },
      "source": [
        "#### Slicing of an array"
      ]
    },
    {
      "cell_type": "code",
      "metadata": {
        "id": "5H9sevo53dtm"
      },
      "source": [
        "slice_of_an_array = arr[1:9]"
      ],
      "execution_count": 73,
      "outputs": []
    },
    {
      "cell_type": "code",
      "metadata": {
        "colab": {
          "base_uri": "https://localhost:8080/"
        },
        "id": "Cv-cLhO9ad-k",
        "outputId": "4b5d48fa-0035-4184-ca43-70fe1923945c"
      },
      "source": [
        "slice_of_an_array"
      ],
      "execution_count": 74,
      "outputs": [
        {
          "output_type": "execute_result",
          "data": {
            "text/plain": [
              "array([2, 3, 4, 5, 5, 6, 7, 8])"
            ]
          },
          "metadata": {},
          "execution_count": 74
        }
      ]
    },
    {
      "cell_type": "code",
      "metadata": {
        "id": "Uss5e9ec3iIc"
      },
      "source": [
        "slice_of_an_array[:] = 99"
      ],
      "execution_count": 75,
      "outputs": []
    },
    {
      "cell_type": "code",
      "metadata": {
        "colab": {
          "base_uri": "https://localhost:8080/"
        },
        "id": "mMlP9wyx3psw",
        "outputId": "41a0d815-bdea-4c70-bac3-89c48765cc3d"
      },
      "source": [
        "slice_of_an_array"
      ],
      "execution_count": 76,
      "outputs": [
        {
          "output_type": "execute_result",
          "data": {
            "text/plain": [
              "array([99, 99, 99, 99, 99, 99, 99, 99])"
            ]
          },
          "metadata": {},
          "execution_count": 76
        }
      ]
    },
    {
      "cell_type": "code",
      "metadata": {
        "colab": {
          "base_uri": "https://localhost:8080/"
        },
        "id": "O01PQps53r6I",
        "outputId": "a89318a9-90b9-47ae-8c95-dbdbfb9daf29"
      },
      "source": [
        "arr"
      ],
      "execution_count": 83,
      "outputs": [
        {
          "output_type": "execute_result",
          "data": {
            "text/plain": [
              "array([  1,   2,   3,   4,   5,  99,  99,  99,  99, 100,  10])"
            ]
          },
          "metadata": {},
          "execution_count": 83
        }
      ]
    },
    {
      "cell_type": "markdown",
      "metadata": {
        "id": "iIgLkC_R37yE"
      },
      "source": [
        "#### .copy:"
      ]
    },
    {
      "cell_type": "code",
      "metadata": {
        "id": "x5Xt9Y8X399W"
      },
      "source": [
        "arr_copy = arr.copy()"
      ],
      "execution_count": 80,
      "outputs": []
    },
    {
      "cell_type": "code",
      "metadata": {
        "id": "ee3NuTkZ4ChU"
      },
      "source": [
        "arr_copy[:] = 0"
      ],
      "execution_count": 81,
      "outputs": []
    },
    {
      "cell_type": "code",
      "metadata": {
        "colab": {
          "base_uri": "https://localhost:8080/"
        },
        "id": "GjjyRexD4Fgd",
        "outputId": "89aa20e6-a5d4-4473-bed4-965e2ea9670b"
      },
      "source": [
        "arr_copy"
      ],
      "execution_count": 82,
      "outputs": [
        {
          "output_type": "execute_result",
          "data": {
            "text/plain": [
              "array([0, 0, 0, 0, 0, 0, 0, 0, 0, 0, 0])"
            ]
          },
          "metadata": {},
          "execution_count": 82
        }
      ]
    },
    {
      "cell_type": "markdown",
      "metadata": {
        "id": "vBNuFFfU4QW3"
      },
      "source": [
        "### Working on 2-D array:"
      ]
    },
    {
      "cell_type": "code",
      "metadata": {
        "id": "xuS-Zxop4Ujr"
      },
      "source": [
        "arr_2d = np.array([[1,2,3,4,5],#0\n",
        "                   [6,7,8,9,10],#1\n",
        "                   [11,12,13,14,15],#2\n",
        "                   [16,17,18,19,20]])#3"
      ],
      "execution_count": 85,
      "outputs": []
    },
    {
      "cell_type": "code",
      "metadata": {
        "colab": {
          "base_uri": "https://localhost:8080/"
        },
        "id": "GoLKc9M74shb",
        "outputId": "66a037b1-a387-4ce9-8b9c-22e444ed8f3e"
      },
      "source": [
        "arr_2d[2][1]"
      ],
      "execution_count": 86,
      "outputs": [
        {
          "output_type": "execute_result",
          "data": {
            "text/plain": [
              "12"
            ]
          },
          "metadata": {},
          "execution_count": 86
        }
      ]
    },
    {
      "cell_type": "code",
      "metadata": {
        "colab": {
          "base_uri": "https://localhost:8080/"
        },
        "id": "R9TepnA14yhS",
        "outputId": "11e0293c-5094-42b3-8ef7-7790c809c8df"
      },
      "source": [
        "arr_2d[2,1]"
      ],
      "execution_count": 87,
      "outputs": [
        {
          "output_type": "execute_result",
          "data": {
            "text/plain": [
              "12"
            ]
          },
          "metadata": {},
          "execution_count": 87
        }
      ]
    },
    {
      "cell_type": "code",
      "metadata": {
        "colab": {
          "base_uri": "https://localhost:8080/"
        },
        "id": "iyLpSDKPbodu",
        "outputId": "c00cff9b-6ecc-4e39-c9ed-29edf73aebeb"
      },
      "source": [
        "arr_2d[3,4]"
      ],
      "execution_count": 88,
      "outputs": [
        {
          "output_type": "execute_result",
          "data": {
            "text/plain": [
              "20"
            ]
          },
          "metadata": {},
          "execution_count": 88
        }
      ]
    },
    {
      "cell_type": "markdown",
      "metadata": {
        "id": "6Rk_740mbx2S"
      },
      "source": [
        "1:3 ---> rows\n",
        "6 7 8 9 10\n",
        "11 12 13 14 15"
      ]
    },
    {
      "cell_type": "code",
      "metadata": {
        "colab": {
          "base_uri": "https://localhost:8080/"
        },
        "id": "qax_bSmi46hh",
        "outputId": "6b629614-b11d-4ef3-d363-6d3ed84b6822"
      },
      "source": [
        "arr_2d[1:3,1:3]"
      ],
      "execution_count": 89,
      "outputs": [
        {
          "output_type": "execute_result",
          "data": {
            "text/plain": [
              "array([[ 7,  8],\n",
              "       [12, 13]])"
            ]
          },
          "metadata": {},
          "execution_count": 89
        }
      ]
    },
    {
      "cell_type": "code",
      "metadata": {
        "colab": {
          "base_uri": "https://localhost:8080/"
        },
        "id": "d7qShDvQ5HBF",
        "outputId": "05a62898-250c-4823-f908-5a6ddfdee9f0"
      },
      "source": [
        "arr_2d[1:,:2]"
      ],
      "execution_count": 90,
      "outputs": [
        {
          "output_type": "execute_result",
          "data": {
            "text/plain": [
              "array([[ 6,  7],\n",
              "       [11, 12],\n",
              "       [16, 17]])"
            ]
          },
          "metadata": {},
          "execution_count": 90
        }
      ]
    },
    {
      "cell_type": "markdown",
      "metadata": {
        "id": "KsPzJrNy5pkY"
      },
      "source": [
        "#### Bool values on array:"
      ]
    },
    {
      "cell_type": "code",
      "metadata": {
        "colab": {
          "base_uri": "https://localhost:8080/"
        },
        "id": "nB0GyLzP5KLY",
        "outputId": "480686da-1ddc-4b5f-c245-c5ad5bf392a4"
      },
      "source": [
        "arr > 5"
      ],
      "execution_count": 91,
      "outputs": [
        {
          "output_type": "execute_result",
          "data": {
            "text/plain": [
              "array([False, False, False, False, False,  True,  True,  True,  True,\n",
              "        True,  True])"
            ]
          },
          "metadata": {},
          "execution_count": 91
        }
      ]
    },
    {
      "cell_type": "code",
      "metadata": {
        "colab": {
          "base_uri": "https://localhost:8080/"
        },
        "id": "EDLEMkCucjMA",
        "outputId": "86422c0e-22ad-468f-cc32-c5cfa1950387"
      },
      "source": [
        "arr < 5"
      ],
      "execution_count": 92,
      "outputs": [
        {
          "output_type": "execute_result",
          "data": {
            "text/plain": [
              "array([ True,  True,  True,  True, False, False, False, False, False,\n",
              "       False, False])"
            ]
          },
          "metadata": {},
          "execution_count": 92
        }
      ]
    },
    {
      "cell_type": "code",
      "metadata": {
        "id": "L0QQFFiD5Qhd"
      },
      "source": [
        "bool_arr = arr > 5"
      ],
      "execution_count": 93,
      "outputs": []
    },
    {
      "cell_type": "code",
      "metadata": {
        "colab": {
          "base_uri": "https://localhost:8080/"
        },
        "id": "-yTzRDs_coP-",
        "outputId": "16edd945-c740-4874-ae78-789767430404"
      },
      "source": [
        "bool_arr"
      ],
      "execution_count": 94,
      "outputs": [
        {
          "output_type": "execute_result",
          "data": {
            "text/plain": [
              "array([False, False, False, False, False,  True,  True,  True,  True,\n",
              "        True,  True])"
            ]
          },
          "metadata": {},
          "execution_count": 94
        }
      ]
    },
    {
      "cell_type": "code",
      "metadata": {
        "colab": {
          "base_uri": "https://localhost:8080/"
        },
        "id": "VWAKqHZy5VqR",
        "outputId": "80b2c0d6-0142-4ccf-ffc0-a26347597c4f"
      },
      "source": [
        "arr[bool_arr]"
      ],
      "execution_count": 95,
      "outputs": [
        {
          "output_type": "execute_result",
          "data": {
            "text/plain": [
              "array([ 99,  99,  99,  99, 100,  10])"
            ]
          },
          "metadata": {},
          "execution_count": 95
        }
      ]
    },
    {
      "cell_type": "code",
      "metadata": {
        "colab": {
          "base_uri": "https://localhost:8080/"
        },
        "id": "DMa3Oj7n5ngV",
        "outputId": "c30e96a4-f75e-46b1-ab41-8b933639b076"
      },
      "source": [
        "np.arange(25).reshape(5,5)"
      ],
      "execution_count": 98,
      "outputs": [
        {
          "output_type": "execute_result",
          "data": {
            "text/plain": [
              "array([[ 0,  1,  2,  3,  4],\n",
              "       [ 5,  6,  7,  8,  9],\n",
              "       [10, 11, 12, 13, 14],\n",
              "       [15, 16, 17, 18, 19],\n",
              "       [20, 21, 22, 23, 24]])"
            ]
          },
          "metadata": {},
          "execution_count": 98
        }
      ]
    },
    {
      "cell_type": "markdown",
      "metadata": {
        "id": "Yb80hwQe6L0B"
      },
      "source": [
        "### Numpy operations:"
      ]
    },
    {
      "cell_type": "markdown",
      "metadata": {
        "id": "_Wrpxpgg6RNC"
      },
      "source": [
        "#### adding arrays"
      ]
    },
    {
      "cell_type": "code",
      "metadata": {
        "id": "mlmZzZcrdHJ1"
      },
      "source": [
        "arr = np.arange(0,11)"
      ],
      "execution_count": 100,
      "outputs": []
    },
    {
      "cell_type": "code",
      "metadata": {
        "colab": {
          "base_uri": "https://localhost:8080/"
        },
        "id": "DWoli_n9dMVs",
        "outputId": "d71a8ccb-8b0c-46a0-ffe0-8b1627cfa84b"
      },
      "source": [
        "arr"
      ],
      "execution_count": 101,
      "outputs": [
        {
          "output_type": "execute_result",
          "data": {
            "text/plain": [
              "array([ 0,  1,  2,  3,  4,  5,  6,  7,  8,  9, 10])"
            ]
          },
          "metadata": {},
          "execution_count": 101
        }
      ]
    },
    {
      "cell_type": "code",
      "metadata": {
        "colab": {
          "base_uri": "https://localhost:8080/"
        },
        "id": "R_V42Q4d6ObB",
        "outputId": "efd25d4a-16af-41ea-ed13-10335705921a"
      },
      "source": [
        "arr + arr"
      ],
      "execution_count": 102,
      "outputs": [
        {
          "output_type": "execute_result",
          "data": {
            "text/plain": [
              "array([ 0,  2,  4,  6,  8, 10, 12, 14, 16, 18, 20])"
            ]
          },
          "metadata": {},
          "execution_count": 102
        }
      ]
    },
    {
      "cell_type": "code",
      "metadata": {
        "colab": {
          "base_uri": "https://localhost:8080/"
        },
        "id": "6wfBfEiv6Wg-",
        "outputId": "593d5a98-a8b7-43e8-9f1d-6d49c300121d"
      },
      "source": [
        "arr + 100"
      ],
      "execution_count": 103,
      "outputs": [
        {
          "output_type": "execute_result",
          "data": {
            "text/plain": [
              "array([100, 101, 102, 103, 104, 105, 106, 107, 108, 109, 110])"
            ]
          },
          "metadata": {},
          "execution_count": 103
        }
      ]
    },
    {
      "cell_type": "markdown",
      "metadata": {
        "id": "zzCWSY3l6lfV"
      },
      "source": [
        "#### Subtracting arrays"
      ]
    },
    {
      "cell_type": "code",
      "metadata": {
        "colab": {
          "base_uri": "https://localhost:8080/"
        },
        "id": "lyOXDX1d6oeu",
        "outputId": "f1ca4f6b-24ad-45a1-d3b3-c49cfa112dab"
      },
      "source": [
        "arr - arr"
      ],
      "execution_count": 104,
      "outputs": [
        {
          "output_type": "execute_result",
          "data": {
            "text/plain": [
              "array([0, 0, 0, 0, 0, 0, 0, 0, 0, 0, 0])"
            ]
          },
          "metadata": {},
          "execution_count": 104
        }
      ]
    },
    {
      "cell_type": "code",
      "metadata": {
        "colab": {
          "base_uri": "https://localhost:8080/"
        },
        "id": "ExH3GMqx6aig",
        "outputId": "abfe91cd-70eb-4c35-e737-e2a4552fd273"
      },
      "source": [
        "arr - 100"
      ],
      "execution_count": 105,
      "outputs": [
        {
          "output_type": "execute_result",
          "data": {
            "text/plain": [
              "array([-100,  -99,  -98,  -97,  -96,  -95,  -94,  -93,  -92,  -91,  -90])"
            ]
          },
          "metadata": {},
          "execution_count": 105
        }
      ]
    },
    {
      "cell_type": "markdown",
      "metadata": {
        "id": "RmzDLxos6sL7"
      },
      "source": [
        "#### array multiplication"
      ]
    },
    {
      "cell_type": "code",
      "metadata": {
        "colab": {
          "base_uri": "https://localhost:8080/"
        },
        "id": "AL6OMCEw6fKn",
        "outputId": "9f17bb42-0f05-49ec-b413-fd6883b628f3"
      },
      "source": [
        "arr * arr"
      ],
      "execution_count": 106,
      "outputs": [
        {
          "output_type": "execute_result",
          "data": {
            "text/plain": [
              "array([  0,   1,   4,   9,  16,  25,  36,  49,  64,  81, 100])"
            ]
          },
          "metadata": {},
          "execution_count": 106
        }
      ]
    },
    {
      "cell_type": "code",
      "metadata": {
        "colab": {
          "base_uri": "https://localhost:8080/"
        },
        "id": "EruAZIJS6yBi",
        "outputId": "b8545595-8c2e-45ee-f5e5-b84513bed488"
      },
      "source": [
        "arr * 100"
      ],
      "execution_count": 107,
      "outputs": [
        {
          "output_type": "execute_result",
          "data": {
            "text/plain": [
              "array([   0,  100,  200,  300,  400,  500,  600,  700,  800,  900, 1000])"
            ]
          },
          "metadata": {},
          "execution_count": 107
        }
      ]
    },
    {
      "cell_type": "markdown",
      "metadata": {
        "id": "LbFKHQt362gy"
      },
      "source": [
        "#### array division"
      ]
    },
    {
      "cell_type": "code",
      "metadata": {
        "colab": {
          "base_uri": "https://localhost:8080/"
        },
        "id": "sLmcLBBr614s",
        "outputId": "05ec6c42-3800-485a-a634-01b93cf2da4d"
      },
      "source": [
        "arr/arr"
      ],
      "execution_count": 108,
      "outputs": [
        {
          "output_type": "stream",
          "name": "stderr",
          "text": [
            "/usr/local/lib/python3.7/dist-packages/ipykernel_launcher.py:1: RuntimeWarning: invalid value encountered in true_divide\n",
            "  \"\"\"Entry point for launching an IPython kernel.\n"
          ]
        },
        {
          "output_type": "execute_result",
          "data": {
            "text/plain": [
              "array([nan,  1.,  1.,  1.,  1.,  1.,  1.,  1.,  1.,  1.,  1.])"
            ]
          },
          "metadata": {},
          "execution_count": 108
        }
      ]
    },
    {
      "cell_type": "code",
      "metadata": {
        "colab": {
          "base_uri": "https://localhost:8080/"
        },
        "id": "ir96V4tB6-W5",
        "outputId": "327d500c-8b75-4a6d-b754-736da441e73c"
      },
      "source": [
        "arr/10"
      ],
      "execution_count": 110,
      "outputs": [
        {
          "output_type": "execute_result",
          "data": {
            "text/plain": [
              "array([0. , 0.1, 0.2, 0.3, 0.4, 0.5, 0.6, 0.7, 0.8, 0.9, 1. ])"
            ]
          },
          "metadata": {},
          "execution_count": 110
        }
      ]
    },
    {
      "cell_type": "markdown",
      "metadata": {
        "id": "_L4IdahO7Cyk"
      },
      "source": [
        "#### power of an array"
      ]
    },
    {
      "cell_type": "code",
      "metadata": {
        "colab": {
          "base_uri": "https://localhost:8080/"
        },
        "id": "xVK1mcLPducm",
        "outputId": "bc0bbba1-ad05-4b7c-f763-e8ba39955540"
      },
      "source": [
        "2 ** 2"
      ],
      "execution_count": 111,
      "outputs": [
        {
          "output_type": "execute_result",
          "data": {
            "text/plain": [
              "4"
            ]
          },
          "metadata": {},
          "execution_count": 111
        }
      ]
    },
    {
      "cell_type": "code",
      "metadata": {
        "colab": {
          "base_uri": "https://localhost:8080/"
        },
        "id": "BMiysH-17FEw",
        "outputId": "4fd90e5c-cc45-4233-8622-80c7b7ef2d26"
      },
      "source": [
        "arr ** arr"
      ],
      "execution_count": 112,
      "outputs": [
        {
          "output_type": "execute_result",
          "data": {
            "text/plain": [
              "array([          1,           1,           4,          27,         256,\n",
              "              3125,       46656,      823543,    16777216,   387420489,\n",
              "       10000000000])"
            ]
          },
          "metadata": {},
          "execution_count": 112
        }
      ]
    },
    {
      "cell_type": "code",
      "metadata": {
        "colab": {
          "base_uri": "https://localhost:8080/"
        },
        "id": "wB1lknrO7H7d",
        "outputId": "b3702b27-501c-41ca-b716-7582639c2ff5"
      },
      "source": [
        "arr ** 2"
      ],
      "execution_count": 113,
      "outputs": [
        {
          "output_type": "execute_result",
          "data": {
            "text/plain": [
              "array([  0,   1,   4,   9,  16,  25,  36,  49,  64,  81, 100])"
            ]
          },
          "metadata": {},
          "execution_count": 113
        }
      ]
    },
    {
      "cell_type": "markdown",
      "metadata": {
        "id": "Y88r2pTy7OI6"
      },
      "source": [
        "#### sqrt of an array"
      ]
    },
    {
      "cell_type": "code",
      "metadata": {
        "colab": {
          "base_uri": "https://localhost:8080/"
        },
        "id": "me6IwDpj7MCy",
        "outputId": "853bbf11-c547-4474-e319-e557d96be525"
      },
      "source": [
        "np.sqrt(arr)"
      ],
      "execution_count": 114,
      "outputs": [
        {
          "output_type": "execute_result",
          "data": {
            "text/plain": [
              "array([0.        , 1.        , 1.41421356, 1.73205081, 2.        ,\n",
              "       2.23606798, 2.44948974, 2.64575131, 2.82842712, 3.        ,\n",
              "       3.16227766])"
            ]
          },
          "metadata": {},
          "execution_count": 114
        }
      ]
    },
    {
      "cell_type": "markdown",
      "metadata": {
        "id": "rLbR64wh7XMQ"
      },
      "source": [
        "#### sin values of array"
      ]
    },
    {
      "cell_type": "code",
      "metadata": {
        "colab": {
          "base_uri": "https://localhost:8080/"
        },
        "id": "f8QUvpkF7UDe",
        "outputId": "97bac6f0-6b96-44a9-c5e3-57d6db56b607"
      },
      "source": [
        "np.sin(arr)"
      ],
      "execution_count": 115,
      "outputs": [
        {
          "output_type": "execute_result",
          "data": {
            "text/plain": [
              "array([ 0.        ,  0.84147098,  0.90929743,  0.14112001, -0.7568025 ,\n",
              "       -0.95892427, -0.2794155 ,  0.6569866 ,  0.98935825,  0.41211849,\n",
              "       -0.54402111])"
            ]
          },
          "metadata": {},
          "execution_count": 115
        }
      ]
    },
    {
      "cell_type": "markdown",
      "metadata": {
        "id": "fuSh7Q9f7cmE"
      },
      "source": [
        "#### cosine values of an array"
      ]
    },
    {
      "cell_type": "code",
      "metadata": {
        "colab": {
          "base_uri": "https://localhost:8080/"
        },
        "id": "DSUdL9-C7gGa",
        "outputId": "fe9ac36c-2961-4fa9-e09c-124f02b2d93e"
      },
      "source": [
        "np.cos(arr)"
      ],
      "execution_count": 116,
      "outputs": [
        {
          "output_type": "execute_result",
          "data": {
            "text/plain": [
              "array([ 1.        ,  0.54030231, -0.41614684, -0.9899925 , -0.65364362,\n",
              "        0.28366219,  0.96017029,  0.75390225, -0.14550003, -0.91113026,\n",
              "       -0.83907153])"
            ]
          },
          "metadata": {},
          "execution_count": 116
        }
      ]
    },
    {
      "cell_type": "markdown",
      "metadata": {
        "id": "qVWkDLtF7io8"
      },
      "source": [
        "#### log values of an array"
      ]
    },
    {
      "cell_type": "code",
      "metadata": {
        "colab": {
          "base_uri": "https://localhost:8080/"
        },
        "id": "60zftn5b7lOh",
        "outputId": "21d4bfdb-8ba7-46c5-96ad-a86263e86ffb"
      },
      "source": [
        "np.log(arr)"
      ],
      "execution_count": 117,
      "outputs": [
        {
          "output_type": "stream",
          "name": "stderr",
          "text": [
            "/usr/local/lib/python3.7/dist-packages/ipykernel_launcher.py:1: RuntimeWarning: divide by zero encountered in log\n",
            "  \"\"\"Entry point for launching an IPython kernel.\n"
          ]
        },
        {
          "output_type": "execute_result",
          "data": {
            "text/plain": [
              "array([      -inf, 0.        , 0.69314718, 1.09861229, 1.38629436,\n",
              "       1.60943791, 1.79175947, 1.94591015, 2.07944154, 2.19722458,\n",
              "       2.30258509])"
            ]
          },
          "metadata": {},
          "execution_count": 117
        }
      ]
    },
    {
      "cell_type": "markdown",
      "metadata": {
        "id": "nMFxnl7x75U2"
      },
      "source": [
        "#### Ufunc numpy documentation: [link](https://numpy.org/doc/stable/reference/ufuncs.html)"
      ]
    },
    {
      "cell_type": "code",
      "metadata": {
        "id": "LURYnK0E7p7p"
      },
      "source": [
        ""
      ],
      "execution_count": null,
      "outputs": []
    }
  ]
}